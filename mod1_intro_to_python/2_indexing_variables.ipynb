{
  "cells": [
    {
      "cell_type": "markdown",
      "metadata": {
        "id": "sfzOzNRWbm1B"
      },
      "source": [
        "# Introduction to Python: Creating and Indexing Variables\n",
        "Please complete this assignment with your small group. Discussion is encouraged and a completed version is due before the next class."
      ]
    },
    {
      "cell_type": "markdown",
      "metadata": {
        "id": "UZ7S0GDEbm1C"
      },
      "source": [
        "## Part 1: Creating and Interacting with Variables"
      ]
    },
    {
      "cell_type": "markdown",
      "metadata": {
        "id": "bJ0xcElYbm1C"
      },
      "source": [
        "### Python naming conventions:\n",
        "\n",
        "**Functions and Variables**\n",
        "\n",
        "Function and variable names should be lowercase, with words separated by underscores as necessary to improve readability.\n",
        "\n",
        "```python\n",
        "# short variable name\n",
        "name = \"John Smith\"\n",
        "age = 52\n",
        "\n",
        "# long variable name\n",
        "name_and_age = (\"John Smith\", 52)\n",
        "```\n",
        "\n",
        "In some cases it's acceptable to use single characters for variables. For example, when doing math:\n",
        "\n",
        "```python\n",
        "x = 5\n",
        "y = 2\n",
        "\n",
        "x + y\n",
        "```\n",
        "\n",
        "If you want to learn more, read the [PEP 8](https://peps.python.org/pep-0008/#naming-conventions \"PEP 8-Naming Conventions\") style guide section on Naming Conventions."
      ]
    },
    {
      "cell_type": "markdown",
      "metadata": {
        "id": "9LptpvcCbm1D"
      },
      "source": [
        "### Q.1: In the cell below, create a variable for each of the following datatypes. Then print all with only one call to `print`.\n",
        "\n",
        "1. `str`\n",
        "2. `int`\n",
        "3. `float`\n",
        "4. `list`\n",
        "5. `tuple`\n",
        "6. `bool`"
      ]
    },
    {
      "cell_type": "code",
      "execution_count": null,
      "metadata": {
        "id": "mdVUnfxxbm1D"
      },
      "outputs": [],
      "source": [
        "# YOUR ANSWER HERE\n",
        "str_eg = \"String Test\"\n",
        "int_eg = 3\n",
        "float_eg = 3.34\n",
        "list_eg = [1, 2, 3, 4, 5]\n",
        "tuple_eg = ('a','b','c')\n",
        "bool_eg = True\n",
        "\n",
        "print(str_eg, int_eg, float_eg, list_eg, tuple_eg, bool_eg)"
      ]
    },
    {
      "cell_type": "markdown",
      "metadata": {
        "id": "WKlu6iQdbm1D"
      },
      "source": [
        "### Use descriptive names:\n",
        "\n",
        "The simplest name for a variable is not always the best choice. It's important to name variables such that anyone can understand what they are, with little to no effort.\n",
        "\n",
        "Lets look at the first code block in the previous section. The code could be improved by renaming some of the variables so they are more descriptive.\n",
        "\n",
        "```python\n",
        "# with better variable names\n",
        "user_name = \"John Smith\"\n",
        "user_age = 52\n",
        "\n",
        "user_name_and_age = (\"John Smith\", 52)\n",
        "```"
      ]
    },
    {
      "cell_type": "markdown",
      "metadata": {
        "id": "dpUSS-libm1D"
      },
      "source": [
        "### Q.2: In the code cell below, rewrite the following code in a more readable way.\n",
        "\n",
        "```python\n",
        "# patient names\n",
        "a = [\"John\",\"Karl\",\"Ashley\",\"Cameron\",\"Steve\"]\n",
        "# patient ages\n",
        "b = [26,29,40,25,30]\n",
        "```"
      ]
    },
    {
      "cell_type": "code",
      "execution_count": null,
      "metadata": {
        "id": "mLuROQB-bm1E"
      },
      "outputs": [],
      "source": [
        "# Put your solution here!\n",
        "\n",
        "\n",
        "\n"
      ]
    },
    {
      "cell_type": "markdown",
      "metadata": {
        "id": "UU_nBsO8bm1E"
      },
      "source": [
        "### Q.3: Lets do some math! In the code cell below...\n",
        "\n",
        "Solve the math function $ax^b+\\frac{x}{b}-c$ where $a=2.8$, $b=9$, and $c=66$ for $x=2$. Do this by...\n",
        "\n",
        "1. Defining variables (`a`,`b`,`c`,and `x`) and assigning their given values.\n",
        "2. Writing out the equation using only the variables.\n",
        "2. Save the result by assigning it to a variable `result`.\n",
        "3. Print the result with `print()`."
      ]
    },
    {
      "cell_type": "code",
      "execution_count": null,
      "metadata": {
        "id": "cHkyZ6wSbm1E"
      },
      "outputs": [],
      "source": [
        "# YOUR ANSWER HERE\n",
        "\n",
        "\n",
        "\n",
        "\n",
        "\n"
      ]
    },
    {
      "cell_type": "markdown",
      "metadata": {
        "id": "KrWKVnQ6bm1E"
      },
      "source": [
        "## Part 2: Indexing Variables"
      ]
    },
    {
      "cell_type": "markdown",
      "metadata": {
        "id": "IXEA-0_jbm1E"
      },
      "source": [
        "### Q.4: please index the variable `grades` as indicated below"
      ]
    },
    {
      "cell_type": "code",
      "execution_count": null,
      "metadata": {
        "id": "yF0LKugTbm1E"
      },
      "outputs": [],
      "source": [
        "grades = [99, 81, 95, 97, 81, 92, 98, 89, 95, 86]"
      ]
    },
    {
      "cell_type": "code",
      "execution_count": null,
      "metadata": {
        "id": "TfSdfxV7bm1E"
      },
      "outputs": [],
      "source": [
        "# The first element of the list?\n",
        "# print(f\"The first element is: {  < YOUR ANSWER HERE >  }\")\n",
        "\n",
        "# The 4-6th elements of the list?\n",
        "# print(f\"The 4-6th elements in the list are: {  < YOUR ANSWER HERE >  }\")\n",
        "\n",
        "\n",
        "# The 3rd element from the end of the list?\n",
        "# print(f\"The 3rd element from the end of the list is: {  < YOUR ANSWER HERE >  }\")"
      ]
    },
    {
      "cell_type": "markdown",
      "metadata": {
        "id": "SBTe70libm1F"
      },
      "source": [
        "You can also combine lists together using the `+` operator:"
      ]
    },
    {
      "cell_type": "code",
      "execution_count": null,
      "metadata": {
        "id": "5QLH0uqgbm1F",
        "outputId": "4b7a7fe6-d4ae-4b9a-dcf5-e5ab1d6703dd"
      },
      "outputs": [
        {
          "name": "stdout",
          "output_type": "stream",
          "text": [
            "The combined list is: ['a', 'b', 'c', 1, 2, 3]\n"
          ]
        }
      ],
      "source": [
        "list1 = ['a', 'b', 'c']\n",
        "list2 = [1, 2, 3]\n",
        "print(f\"The combined list is: {list1 + list2}\")"
      ]
    },
    {
      "cell_type": "markdown",
      "metadata": {
        "id": "mOk_A6Fobm1F"
      },
      "source": [
        "If you want to join two lists together and form a dictionary, but don't want to manually write out `{list1[0]: list2[0], list1[1]: list2[1], ...}` you can use the `zip` function:"
      ]
    },
    {
      "cell_type": "code",
      "execution_count": null,
      "metadata": {
        "id": "jhq_s0w9bm1F",
        "outputId": "ae38a99f-e2b7-4517-d194-e023364d4e73"
      },
      "outputs": [
        {
          "name": "stdout",
          "output_type": "stream",
          "text": [
            "zipped values: [('a', 1), ('b', 2), ('c', 3)] \n",
            "type: <class 'zip'> \n",
            "\n",
            "resulting dictionary: {'a': 1, 'b': 2, 'c': 3} \n",
            "type: <class 'dict'>\n"
          ]
        }
      ],
      "source": [
        "my_zip = zip(list1, list2)\n",
        "print(f\"zipped values: {list(my_zip)} \\ntype: {type(my_zip)} \\n\") # print list(my_zip) NOT my_zip to display values\n",
        "\n",
        "zipped_dict = dict(zip(list1, list2))\n",
        "print(f\"resulting dictionary: {zipped_dict} \\ntype: {type(zipped_dict)}\")"
      ]
    },
    {
      "cell_type": "markdown",
      "metadata": {
        "id": "RvzhLoSqbm1F"
      },
      "source": [
        "### Q.5 Use what you know about indexing and combining lists to combine the 2nd, 3rd and 7-9th index elements into a new list\n",
        "Hint: make sure that the output has only one set of square brackets! For example, [val1, val2, val3, val4, val5]"
      ]
    },
    {
      "cell_type": "code",
      "execution_count": null,
      "metadata": {
        "id": "Q9PlUD_zbm1F"
      },
      "outputs": [],
      "source": [
        "# indexed_grades = < YOUR ANSWER HERE >\n",
        "# print(f\"The indexed grades from the list are: {  indexed_grades  }\")"
      ]
    }
  ],
  "metadata": {
    "kernelspec": {
      "display_name": "base",
      "language": "python",
      "name": "python3"
    },
    "language_info": {
      "codemirror_mode": {
        "name": "ipython",
        "version": 3
      },
      "file_extension": ".py",
      "mimetype": "text/x-python",
      "name": "python",
      "nbconvert_exporter": "python",
      "pygments_lexer": "ipython3",
      "version": "3.12.8"
    },
    "colab": {
      "provenance": []
    }
  },
  "nbformat": 4,
  "nbformat_minor": 0
}